{
 "cells": [
  {
   "cell_type": "code",
   "execution_count": 1,
   "id": "2097e2c6",
   "metadata": {},
   "outputs": [
    {
     "name": "stdout",
     "output_type": "stream",
     "text": [
      "Mean: 4.222222222222222\n",
      "Median: 4\n",
      "Mode: [5]\n"
     ]
    }
   ],
   "source": [
    "def calculate_mean(data):\n",
    "    total_sum = sum(data)\n",
    "    mean = total_sum / len(data)\n",
    "    return mean\n",
    "\n",
    "\n",
    "def calculate_median(data):\n",
    "    sorted_data = sorted(data)\n",
    "    n = len(sorted_data)\n",
    "    if n % 2 == 0:\n",
    "        median = (sorted_data[n // 2 - 1] + sorted_data[n // 2]) / 2\n",
    "    else:\n",
    "        median = sorted_data[n // 2]\n",
    "    return median\n",
    "\n",
    "\n",
    "def calculate_mode(data):\n",
    "    occurrences = {}\n",
    "    for value in data:\n",
    "        occurrences[value] = occurrences.get(value, 0) + 1\n",
    "    max_occurrence = max(occurrences.values())\n",
    "    mode = [key for key, value in occurrences.items() if value == max_occurrence]\n",
    "    return mode\n",
    "\n",
    "\n",
    "data = [2, 4, 5, 8, 4, 2, 5, 3, 5]\n",
    "\n",
    "\n",
    "mean = calculate_mean(data)\n",
    "median = calculate_median(data)\n",
    "mode = calculate_mode(data)\n",
    "\n",
    "print(\"Mean:\", mean)\n",
    "print(\"Median:\", median)\n",
    "print(\"Mode:\", mode)"
   ]
  },
  {
   "cell_type": "code",
   "execution_count": 2,
   "id": "9b000060",
   "metadata": {},
   "outputs": [
    {
     "name": "stdout",
     "output_type": "stream",
     "text": [
      "Variance: 3.061728395061728\n",
      "Standard Deviation: 1.74977952755818\n"
     ]
    }
   ],
   "source": [
    "# Function to calculate the mean\n",
    "def calculate_mean(data):\n",
    "    total_sum = sum(data)\n",
    "    mean = total_sum / len(data)\n",
    "    return mean\n",
    "\n",
    "# Function to calculate the variance\n",
    "def calculate_variance(data):\n",
    "    mean = calculate_mean(data)\n",
    "    squared_diff_sum = sum((x - mean) ** 2 for x in data)\n",
    "    variance = squared_diff_sum / len(data)\n",
    "    return variance\n",
    "\n",
    "# Function to calculate the standard deviation\n",
    "def calculate_std_deviation(data):\n",
    "    variance = calculate_variance(data)\n",
    "    std_deviation = variance ** 0.5\n",
    "    return std_deviation\n",
    "\n",
    "# Sample data\n",
    "data = [2, 4, 5, 8, 4, 2, 5, 3, 5]\n",
    "\n",
    "# Calculate variance and standard deviation\n",
    "variance = calculate_variance(data)\n",
    "std_deviation = calculate_std_deviation(data)\n",
    "\n",
    "# Print the results\n",
    "print(\"Variance:\", variance)\n",
    "print(\"Standard Deviation:\",std_deviation)"
   ]
  },
  {
   "cell_type": "code",
   "execution_count": 3,
   "id": "c1ea6921",
   "metadata": {},
   "outputs": [
    {
     "name": "stdout",
     "output_type": "stream",
     "text": [
      "Variance: 3.4444444444444446\n",
      "Standard Deviation: 1.855921454276674\n"
     ]
    }
   ],
   "source": [
    "import statistics\n",
    "\n",
    "# Sample data\n",
    "data = [2, 4, 5, 8, 4, 2, 5, 3, 5]\n",
    "\n",
    "# Calculate variance and standard deviation using library functions\n",
    "variance = statistics.variance(data)\n",
    "std_deviation = statistics.stdev(data)\n",
    "\n",
    "# Print the results\n",
    "print(\"Variance:\", variance)\n",
    "print(\"Standard Deviation:\", std_deviation)"
   ]
  },
  {
   "cell_type": "code",
   "execution_count": 4,
   "id": "e5e8878b",
   "metadata": {},
   "outputs": [
    {
     "name": "stdout",
     "output_type": "stream",
     "text": [
      "Largest number: 30\n"
     ]
    }
   ],
   "source": [
    "##list program\n",
    "def find_largest_number(numbers_list):\n",
    "    largest = numbers_list[0]\n",
    "    for num in numbers_list:\n",
    "        if num > largest:\n",
    "            largest = num\n",
    "    return largest\n",
    "\n",
    "numbers = [10, 5, 22, 17, 8, 30]\n",
    "print(\"Largest number:\", find_largest_number(numbers))"
   ]
  },
  {
   "cell_type": "code",
   "execution_count": 5,
   "id": "69f92d7a",
   "metadata": {},
   "outputs": [
    {
     "name": "stdout",
     "output_type": "stream",
     "text": [
      "Concatenated tuple: (1, 2, 3, 4, 5, 6)\n"
     ]
    }
   ],
   "source": [
    "##tuple program\n",
    "def concatenate_tuples(tuple1, tuple2):\n",
    "    return tuple1 + tuple2\n",
    "\n",
    "tuple1 = (1, 2, 3)\n",
    "tuple2 = (4, 5, 6)\n",
    "print(\"Concatenated tuple:\", concatenate_tuples(tuple1,tuple2))"
   ]
  },
  {
   "cell_type": "code",
   "execution_count": 6,
   "id": "bdc41580",
   "metadata": {},
   "outputs": [
    {
     "name": "stdout",
     "output_type": "stream",
     "text": [
      "Squared numbers: [1, 4, 9, 16, 25]\n"
     ]
    }
   ],
   "source": [
    "##squre of number\n",
    "def square_numbers(numbers_list):\n",
    "    return [num ** 2 for num in numbers_list]\n",
    "\n",
    "numbers = [1, 2, 3, 4, 5]\n",
    "print(\"Squared numbers:\", square_numbers(numbers))"
   ]
  },
  {
   "cell_type": "code",
   "execution_count": 7,
   "id": "8e6aa011",
   "metadata": {},
   "outputs": [
    {
     "name": "stdout",
     "output_type": "stream",
     "text": [
      "Dictionary: {'a': 1, 'b': 2, 'c': 3}\n"
     ]
    }
   ],
   "source": [
    "##dictionary program\n",
    "def create_dictionary(keys_list, values_list):\n",
    "    return dict(zip(keys_list, values_list))\n",
    "\n",
    "keys = ['a', 'b', 'c']\n",
    "values = [1, 2, 3]\n",
    "print(\"Dictionary:\", create_dictionary(keys,values))"
   ]
  },
  {
   "cell_type": "code",
   "execution_count": 8,
   "id": "8d9b0607",
   "metadata": {},
   "outputs": [
    {
     "name": "stdout",
     "output_type": "stream",
     "text": [
      "Reversed string: !dlrow ,olleh\n"
     ]
    }
   ],
   "source": [
    "##reverse string program\n",
    "def reverse_string(input_string):\n",
    "    return input_string[::-1]\n",
    "\n",
    "text = \"hello, world!\"\n",
    "print(\"Reversed string:\", reverse_string(text))"
   ]
  },
  {
   "cell_type": "code",
   "execution_count": null,
   "id": "74603574",
   "metadata": {},
   "outputs": [],
   "source": []
  }
 ],
 "metadata": {
  "kernelspec": {
   "display_name": "Python 3 (ipykernel)",
   "language": "python",
   "name": "python3"
  },
  "language_info": {
   "codemirror_mode": {
    "name": "ipython",
    "version": 3
   },
   "file_extension": ".py",
   "mimetype": "text/x-python",
   "name": "python",
   "nbconvert_exporter": "python",
   "pygments_lexer": "ipython3",
   "version": "3.11.3"
  }
 },
 "nbformat": 4,
 "nbformat_minor": 5
}
